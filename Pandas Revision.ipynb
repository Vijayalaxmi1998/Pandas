{
 "cells": [
  {
   "cell_type": "markdown",
   "id": "million-gothic",
   "metadata": {},
   "source": [
    "# Pandas "
   ]
  },
  {
   "cell_type": "code",
   "execution_count": 1,
   "id": "confused-columbia",
   "metadata": {},
   "outputs": [],
   "source": [
    "import pandas as pd\n",
    "import numpy as np"
   ]
  },
  {
   "cell_type": "markdown",
   "id": "former-tuesday",
   "metadata": {},
   "source": [
    "### Two Data structures"
   ]
  },
  {
   "cell_type": "code",
   "execution_count": null,
   "id": "living-claim",
   "metadata": {},
   "outputs": [],
   "source": [
    "DataFrame >> 2-D\n",
    "Series    >> 1-D"
   ]
  },
  {
   "cell_type": "markdown",
   "id": "juvenile-buffalo",
   "metadata": {},
   "source": [
    "### 1. create DataFrame"
   ]
  },
  {
   "cell_type": "code",
   "execution_count": null,
   "id": "worse-peripheral",
   "metadata": {},
   "outputs": [],
   "source": [
    "df = pd.DataFrame()\n",
    "1. list/tuple\n",
    "2. numpy array\n",
    "3. dict\n",
    "4. series"
   ]
  },
  {
   "cell_type": "markdown",
   "id": "european-suicide",
   "metadata": {},
   "source": [
    "### 2. Access"
   ]
  },
  {
   "cell_type": "code",
   "execution_count": null,
   "id": "dangerous-floating",
   "metadata": {},
   "outputs": [],
   "source": [
    "df['ColName'] # series\n",
    "df[['ColA','ColB']]  # df\n",
    "df.loc[row_label,col_label]\n",
    "df.loc[1:4,'A' : 'D']\n",
    "df.loc[[3,4,5,6,7],['A','C']]\n",
    "\n",
    "df.iloc[row_index, col_index]\n",
    "df.iloc[2:5, 1:4] # 3 rows and 3 columns\n",
    "df.iloc[[2,3,4], [1,2]] # 3 rows and 2 columns"
   ]
  },
  {
   "cell_type": "markdown",
   "id": "pressing-short",
   "metadata": {},
   "source": [
    "### 3. Add Column"
   ]
  },
  {
   "cell_type": "code",
   "execution_count": null,
   "id": "modular-charm",
   "metadata": {},
   "outputs": [],
   "source": [
    "df['NewCol'] = array\n",
    "df['NewCol'] = list\n",
    "df['NewCol'] = series\n",
    "df['NewCol'] = 'python'"
   ]
  },
  {
   "cell_type": "markdown",
   "id": "interim-handle",
   "metadata": {},
   "source": [
    "# 4. Delete"
   ]
  },
  {
   "cell_type": "code",
   "execution_count": null,
   "id": "stuffed-guarantee",
   "metadata": {},
   "outputs": [],
   "source": [
    "df.drop('colNames',axis =1 ) # To delete columns\n",
    "df.drop('rowNames',axis = 0 ) # To delete rows\n",
    "del df['colName']"
   ]
  },
  {
   "cell_type": "code",
   "execution_count": null,
   "id": "spiritual-playlist",
   "metadata": {},
   "outputs": [],
   "source": []
  },
  {
   "cell_type": "markdown",
   "id": "accessible-ecology",
   "metadata": {},
   "source": [
    "# Read Data"
   ]
  },
  {
   "cell_type": "code",
   "execution_count": null,
   "id": "graphic-writer",
   "metadata": {},
   "outputs": [],
   "source": [
    "1. pd.read_csv('csv_file_name.csv',delimiter = '|',index_col=None,usecols = [col_list])\n",
    "2. pd.read_excel('csv_file_name.xlsx',sheet_name='data')\n"
   ]
  },
  {
   "cell_type": "markdown",
   "id": "adult-technical",
   "metadata": {},
   "source": [
    "# Create CSV/Excel"
   ]
  },
  {
   "cell_type": "code",
   "execution_count": null,
   "id": "pressed-objective",
   "metadata": {},
   "outputs": [],
   "source": [
    "df.to_csv()\n",
    "df.to_excel()\n",
    "df.to_dict()\n",
    "df.to_json()"
   ]
  },
  {
   "cell_type": "markdown",
   "id": "still-hearing",
   "metadata": {},
   "source": [
    "# Sort DataFrame"
   ]
  },
  {
   "cell_type": "code",
   "execution_count": null,
   "id": "corrected-minnesota",
   "metadata": {},
   "outputs": [],
   "source": [
    "1. df.sort_index()\n",
    "2. df.sort_values()\n",
    "3. df.reset_index()\n",
    "4. df.set_index()"
   ]
  },
  {
   "cell_type": "markdown",
   "id": "proved-salvation",
   "metadata": {},
   "source": [
    "# Other Functions"
   ]
  },
  {
   "cell_type": "code",
   "execution_count": null,
   "id": "severe-nurse",
   "metadata": {},
   "outputs": [],
   "source": [
    "df.head()\n",
    "df.tail()\n",
    "df.shape\n",
    "df.shape[0]\n",
    "df.shape[1]\n",
    "df.T  # Transpose of DF\n",
    "df.describe()  # stats of numeric columns\n",
    "df.index\n",
    "df.columns\n",
    "df.axes\n",
    "df.dtypes\n",
    "df.info()"
   ]
  },
  {
   "cell_type": "markdown",
   "id": "close-criterion",
   "metadata": {},
   "source": [
    "# Convert df to list"
   ]
  },
  {
   "cell_type": "code",
   "execution_count": null,
   "id": "complicated-secretary",
   "metadata": {},
   "outputs": [],
   "source": [
    "df.values # used to convert df to array\n",
    "df.values.tolist()"
   ]
  },
  {
   "cell_type": "markdown",
   "id": "ranking-horizontal",
   "metadata": {},
   "source": [
    "# Handling of Missing Values"
   ]
  },
  {
   "cell_type": "code",
   "execution_count": null,
   "id": "billion-record",
   "metadata": {},
   "outputs": [],
   "source": [
    "df.isna()\n",
    "df.isnull()\n",
    "df.isna().sum()\n",
    "df.isnull().sum()\n",
    "\n",
    "df.fillna()\n",
    "df.replace({np.nan:0})\n",
    "\n",
    "df.dropna(thresh=2)"
   ]
  },
  {
   "cell_type": "markdown",
   "id": "useful-guide",
   "metadata": {},
   "source": [
    "# Stats"
   ]
  },
  {
   "cell_type": "code",
   "execution_count": null,
   "id": "backed-injury",
   "metadata": {},
   "outputs": [],
   "source": [
    "df.fillna()\n",
    "\n",
    "df['a'].mean()\n",
    "df['a'].median()\n",
    "df['a'].mode()[0]\n",
    "df['a'].std()\n",
    "df['a'].var()\n",
    "df['a'].min()\n",
    "df['a'].max()"
   ]
  },
  {
   "cell_type": "code",
   "execution_count": 19,
   "id": "organic-challenge",
   "metadata": {},
   "outputs": [
    {
     "data": {
      "text/plain": [
       "0    8\n",
       "1    9\n",
       "2    8\n",
       "3    6\n",
       "4    6\n",
       "5    8\n",
       "6    7\n",
       "Name: a, dtype: int32"
      ]
     },
     "execution_count": 19,
     "metadata": {},
     "output_type": "execute_result"
    }
   ],
   "source": [
    "df = pd.DataFrame(np.random.randint(1,10,size = (7,2)),columns=['a','b'])\n",
    "df['a']"
   ]
  },
  {
   "cell_type": "code",
   "execution_count": 21,
   "id": "sudden-welsh",
   "metadata": {},
   "outputs": [
    {
     "data": {
      "text/plain": [
       "8"
      ]
     },
     "execution_count": 21,
     "metadata": {},
     "output_type": "execute_result"
    }
   ],
   "source": [
    "df['a'].mean()\n",
    "df['a'].median()\n",
    "df['a'].mode()[0]"
   ]
  },
  {
   "cell_type": "markdown",
   "id": "indoor-laptop",
   "metadata": {},
   "source": [
    "# Join DataFrames"
   ]
  },
  {
   "cell_type": "code",
   "execution_count": null,
   "id": "random-vietnamese",
   "metadata": {},
   "outputs": [],
   "source": [
    "1. df.append(df2)\n",
    "2. df.join()\n",
    "3. pd.concat()\n",
    "4. pd.merge()\n",
    "\n",
    "5. df.insert()"
   ]
  },
  {
   "cell_type": "code",
   "execution_count": 26,
   "id": "combined-apparel",
   "metadata": {},
   "outputs": [
    {
     "data": {
      "text/plain": [
       "8    3\n",
       "6    2\n",
       "9    1\n",
       "7    1\n",
       "Name: a, dtype: int64"
      ]
     },
     "execution_count": 26,
     "metadata": {},
     "output_type": "execute_result"
    }
   ],
   "source": [
    "df['a'].unique()\n",
    "df['a'].nunique()\n",
    "df['a'].value_counts()\n",
    "df['a'].astype()"
   ]
  },
  {
   "cell_type": "code",
   "execution_count": null,
   "id": "rental-birmingham",
   "metadata": {},
   "outputs": [],
   "source": [
    "df.rename()\n",
    "df.groupby()\n",
    "df.apply()\n",
    "df.drop_duplicates()"
   ]
  },
  {
   "cell_type": "code",
   "execution_count": 29,
   "id": "virgin-example",
   "metadata": {},
   "outputs": [
    {
     "data": {
      "text/html": [
       "<div>\n",
       "<style scoped>\n",
       "    .dataframe tbody tr th:only-of-type {\n",
       "        vertical-align: middle;\n",
       "    }\n",
       "\n",
       "    .dataframe tbody tr th {\n",
       "        vertical-align: top;\n",
       "    }\n",
       "\n",
       "    .dataframe thead th {\n",
       "        text-align: right;\n",
       "    }\n",
       "</style>\n",
       "<table border=\"1\" class=\"dataframe\">\n",
       "  <thead>\n",
       "    <tr style=\"text-align: right;\">\n",
       "      <th></th>\n",
       "      <th>a</th>\n",
       "      <th>b</th>\n",
       "    </tr>\n",
       "  </thead>\n",
       "  <tbody>\n",
       "    <tr>\n",
       "      <th>0</th>\n",
       "      <td>8</td>\n",
       "      <td>7</td>\n",
       "    </tr>\n",
       "    <tr>\n",
       "      <th>1</th>\n",
       "      <td>9</td>\n",
       "      <td>5</td>\n",
       "    </tr>\n",
       "    <tr>\n",
       "      <th>2</th>\n",
       "      <td>8</td>\n",
       "      <td>3</td>\n",
       "    </tr>\n",
       "    <tr>\n",
       "      <th>3</th>\n",
       "      <td>6</td>\n",
       "      <td>2</td>\n",
       "    </tr>\n",
       "    <tr>\n",
       "      <th>4</th>\n",
       "      <td>6</td>\n",
       "      <td>8</td>\n",
       "    </tr>\n",
       "    <tr>\n",
       "      <th>5</th>\n",
       "      <td>8</td>\n",
       "      <td>8</td>\n",
       "    </tr>\n",
       "    <tr>\n",
       "      <th>6</th>\n",
       "      <td>7</td>\n",
       "      <td>9</td>\n",
       "    </tr>\n",
       "  </tbody>\n",
       "</table>\n",
       "</div>"
      ],
      "text/plain": [
       "   a  b\n",
       "0  8  7\n",
       "1  9  5\n",
       "2  8  3\n",
       "3  6  2\n",
       "4  6  8\n",
       "5  8  8\n",
       "6  7  9"
      ]
     },
     "execution_count": 29,
     "metadata": {},
     "output_type": "execute_result"
    }
   ],
   "source": [
    "df"
   ]
  },
  {
   "cell_type": "code",
   "execution_count": 31,
   "id": "certified-qualification",
   "metadata": {},
   "outputs": [
    {
     "data": {
      "text/html": [
       "<div>\n",
       "<style scoped>\n",
       "    .dataframe tbody tr th:only-of-type {\n",
       "        vertical-align: middle;\n",
       "    }\n",
       "\n",
       "    .dataframe tbody tr th {\n",
       "        vertical-align: top;\n",
       "    }\n",
       "\n",
       "    .dataframe thead th {\n",
       "        text-align: right;\n",
       "    }\n",
       "</style>\n",
       "<table border=\"1\" class=\"dataframe\">\n",
       "  <thead>\n",
       "    <tr style=\"text-align: right;\">\n",
       "      <th></th>\n",
       "      <th>a</th>\n",
       "      <th>b</th>\n",
       "    </tr>\n",
       "  </thead>\n",
       "  <tbody>\n",
       "    <tr>\n",
       "      <th>0</th>\n",
       "      <td>8</td>\n",
       "      <td>7</td>\n",
       "    </tr>\n",
       "    <tr>\n",
       "      <th>1</th>\n",
       "      <td>9</td>\n",
       "      <td>5</td>\n",
       "    </tr>\n",
       "    <tr>\n",
       "      <th>2</th>\n",
       "      <td>8</td>\n",
       "      <td>8</td>\n",
       "    </tr>\n",
       "    <tr>\n",
       "      <th>3</th>\n",
       "      <td>6</td>\n",
       "      <td>2</td>\n",
       "    </tr>\n",
       "    <tr>\n",
       "      <th>4</th>\n",
       "      <td>6</td>\n",
       "      <td>8</td>\n",
       "    </tr>\n",
       "    <tr>\n",
       "      <th>5</th>\n",
       "      <td>8</td>\n",
       "      <td>8</td>\n",
       "    </tr>\n",
       "    <tr>\n",
       "      <th>6</th>\n",
       "      <td>7</td>\n",
       "      <td>9</td>\n",
       "    </tr>\n",
       "  </tbody>\n",
       "</table>\n",
       "</div>"
      ],
      "text/plain": [
       "   a  b\n",
       "0  8  7\n",
       "1  9  5\n",
       "2  8  8\n",
       "3  6  2\n",
       "4  6  8\n",
       "5  8  8\n",
       "6  7  9"
      ]
     },
     "execution_count": 31,
     "metadata": {},
     "output_type": "execute_result"
    }
   ],
   "source": [
    "df.iloc[2,1] = 8\n",
    "df"
   ]
  },
  {
   "cell_type": "code",
   "execution_count": 34,
   "id": "european-permit",
   "metadata": {},
   "outputs": [
    {
     "data": {
      "text/html": [
       "<div>\n",
       "<style scoped>\n",
       "    .dataframe tbody tr th:only-of-type {\n",
       "        vertical-align: middle;\n",
       "    }\n",
       "\n",
       "    .dataframe tbody tr th {\n",
       "        vertical-align: top;\n",
       "    }\n",
       "\n",
       "    .dataframe thead th {\n",
       "        text-align: right;\n",
       "    }\n",
       "</style>\n",
       "<table border=\"1\" class=\"dataframe\">\n",
       "  <thead>\n",
       "    <tr style=\"text-align: right;\">\n",
       "      <th></th>\n",
       "      <th>a</th>\n",
       "      <th>b</th>\n",
       "    </tr>\n",
       "  </thead>\n",
       "  <tbody>\n",
       "    <tr>\n",
       "      <th>0</th>\n",
       "      <td>8</td>\n",
       "      <td>7</td>\n",
       "    </tr>\n",
       "    <tr>\n",
       "      <th>1</th>\n",
       "      <td>9</td>\n",
       "      <td>5</td>\n",
       "    </tr>\n",
       "    <tr>\n",
       "      <th>2</th>\n",
       "      <td>8</td>\n",
       "      <td>8</td>\n",
       "    </tr>\n",
       "    <tr>\n",
       "      <th>3</th>\n",
       "      <td>6</td>\n",
       "      <td>2</td>\n",
       "    </tr>\n",
       "    <tr>\n",
       "      <th>4</th>\n",
       "      <td>6</td>\n",
       "      <td>8</td>\n",
       "    </tr>\n",
       "    <tr>\n",
       "      <th>6</th>\n",
       "      <td>7</td>\n",
       "      <td>9</td>\n",
       "    </tr>\n",
       "  </tbody>\n",
       "</table>\n",
       "</div>"
      ],
      "text/plain": [
       "   a  b\n",
       "0  8  7\n",
       "1  9  5\n",
       "2  8  8\n",
       "3  6  2\n",
       "4  6  8\n",
       "6  7  9"
      ]
     },
     "execution_count": 34,
     "metadata": {},
     "output_type": "execute_result"
    }
   ],
   "source": [
    "df = df.drop_duplicates(keep = 'last')\n",
    "df"
   ]
  }
 ],
 "metadata": {
  "kernelspec": {
   "display_name": "Python 3 (ipykernel)",
   "language": "python",
   "name": "python3"
  },
  "language_info": {
   "codemirror_mode": {
    "name": "ipython",
    "version": 3
   },
   "file_extension": ".py",
   "mimetype": "text/x-python",
   "name": "python",
   "nbconvert_exporter": "python",
   "pygments_lexer": "ipython3",
   "version": "3.9.7"
  }
 },
 "nbformat": 4,
 "nbformat_minor": 5
}
